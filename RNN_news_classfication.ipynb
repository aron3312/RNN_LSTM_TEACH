{
 "cells": [
  {
   "cell_type": "markdown",
   "metadata": {},
   "source": [
    "# 利用RNN來進行文本分類作業\n"
   ]
  },
  {
   "cell_type": "markdown",
   "metadata": {},
   "source": [
    "## 讀取資料準備訓練資料，並且建立文字、預測類別數量"
   ]
  },
  {
   "cell_type": "code",
   "execution_count": 4,
   "metadata": {},
   "outputs": [
    {
     "name": "stdout",
     "output_type": "stream",
     "text": [
      "2892\n",
      "722\n",
      "2916\n",
      "['politics', 'society', 'business', 'sports']\n"
     ]
    }
   ],
   "source": [
    "import os\n",
    "import pickle\n",
    "import numpy as np\n",
    "import string\n",
    "# Creating PT data samplers and loaders:\n",
    "train_sampler =pickle.load(open('train.pkl','rb'))\n",
    "valid_sampler = pickle.load(open('valid.pkl','rb'))\n",
    "dataset = train_sampler+valid_sampler\n",
    "print(len(train_sampler))\n",
    "print(len(valid_sampler))\n",
    "#建立文字列表\n",
    "all_chars = list(set([d for p in dataset for d in p[1]]))\n",
    "\n",
    "#總共出現的字數量\n",
    "print(len(all_chars))\n",
    "\n",
    "n_chars = len(all_chars)\n",
    "\n",
    "all_categories = list(set([p[0] for p in dataset]))\n",
    "n_categories = len(all_categories)\n",
    "print(all_categories)"
   ]
  },
  {
   "cell_type": "markdown",
   "metadata": {},
   "source": [
    "## 將文字轉成數值並且轉換成Tensor格式"
   ]
  },
  {
   "cell_type": "code",
   "execution_count": 5,
   "metadata": {},
   "outputs": [
    {
     "name": "stdout",
     "output_type": "stream",
     "text": [
      "tensor([[0., 0., 0.,  ..., 0., 0., 0.]])\n",
      "torch.Size([6, 1, 2916])\n",
      "tensor([[1528],\n",
      "        [ 144],\n",
      "        [1568],\n",
      "        [2681]])\n"
     ]
    }
   ],
   "source": [
    "import torch\n",
    "\n",
    "# 從列表中找到文字代表的數字\n",
    "def charToIndex(char):\n",
    "    return all_chars.index(char)\n",
    "\n",
    "# 從文字到數值tensor\n",
    "def charToTensor(char):\n",
    "    tensor = torch.zeros(1, n_chars)\n",
    "    tensor[0][charToIndex(char)] = 1\n",
    "    return tensor\n",
    "\n",
    "#將整列轉換成數值tensor\n",
    "def lineToTensor(line):\n",
    "    tensor = torch.zeros(len(line), 1, n_chars)\n",
    "    for li, char in enumerate(line):\n",
    "        tensor[li][0][charToIndex(char)] = 1\n",
    "    return tensor\n",
    "def linetoindexTensor(line):\n",
    "    tensor = torch.zeros(len(line),1,dtype=torch.long)\n",
    "    for i in range(0,len(line)):\n",
    "        tensor[i][0] = charToIndex(line[i])\n",
    "    return tensor\n",
    "\n",
    "print(charToTensor('今'))\n",
    "\n",
    "print(lineToTensor('今天真的好棒').size())\n",
    "\n",
    "print(linetoindexTensor('今天真棒'))"
   ]
  },
  {
   "cell_type": "markdown",
   "metadata": {},
   "source": [
    "## 建立RNN模型"
   ]
  },
  {
   "cell_type": "code",
   "execution_count": 35,
   "metadata": {},
   "outputs": [
    {
     "data": {
      "text/plain": [
       "4"
      ]
     },
     "execution_count": 35,
     "metadata": {},
     "output_type": "execute_result"
    }
   ],
   "source": [
    "import torch.nn as nn\n",
    "import torch.optim as optim\n",
    "class RNN(nn.Module):\n",
    "    def __init__(self, input_size, hidden_size, output_size,use_embedding):\n",
    "        super(RNN, self).__init__()\n",
    "#         embedding_dim = 300\n",
    "#         self.word_embeddings = nn.Embedding(input_size, embedding_dim)\n",
    "#         self.use_embedding = use_embedding\n",
    "#         if self.use_embedding :\n",
    "#             input_size = embedding_dim\n",
    "        self.hidden_size = hidden_size\n",
    "        #activation\n",
    "        self.i2h = nn.Linear(input_size + hidden_size, hidden_size)\n",
    "        #activation\n",
    "        self.i2o = nn.Linear(input_size + hidden_size, output_size)\n",
    "        #activation\n",
    "        self.softmax = nn.LogSoftmax(dim=1)\n",
    "\n",
    "    def forward(self, input, hidden):\n",
    "        #concat input and last hidden(上一個的預測以及這一個的input)\n",
    "#         if self.use_embedding:\n",
    "#             input =  self.word_embeddings(input)\n",
    "        combined = torch.cat((input, hidden), 1)\n",
    "        #fully connected to hidden \n",
    "        hidden = self.i2h(combined)\n",
    "        #Connected to tag\n",
    "        output = self.i2o(combined)\n",
    "        #Soft max get tag\n",
    "        output = self.softmax(output)\n",
    "        return output, hidden\n",
    "\n",
    "    def initHidden(self):\n",
    "        return torch.zeros(1, self.hidden_size)\n",
    "\n",
    "n_hidden = 128\n",
    "#Create Model\n",
    "rnn = RNN(n_chars, n_hidden, n_categories,False)\n",
    "n_categories"
   ]
  },
  {
   "cell_type": "code",
   "execution_count": 36,
   "metadata": {},
   "outputs": [
    {
     "data": {
      "text/plain": [
       "tensor([[-1.3747, -1.3851, -1.3765, -1.4092]], grad_fn=<LogSoftmaxBackward>)"
      ]
     },
     "execution_count": 36,
     "metadata": {},
     "output_type": "execute_result"
    }
   ],
   "source": [
    "input = charToTensor('今')\n",
    "hidden =torch.zeros(1, n_hidden)\n",
    "output, next_hidden = rnn(input, hidden)\n",
    "output"
   ]
  },
  {
   "cell_type": "code",
   "execution_count": 37,
   "metadata": {},
   "outputs": [
    {
     "name": "stdout",
     "output_type": "stream",
     "text": [
      "torch.Size([9, 1, 2916])\n",
      "torch.Size([1, 128])\n",
      "tensor([[0., 0., 0.,  ..., 0., 0., 0.]])\n",
      "128\n"
     ]
    },
    {
     "data": {
      "text/plain": [
       "tensor([[-1.4016, -1.3726, -1.3761, -1.3951]], grad_fn=<LogSoftmaxBackward>)"
      ]
     },
     "execution_count": 37,
     "metadata": {},
     "output_type": "execute_result"
    }
   ],
   "source": [
    "input = lineToTensor('蔡英文今天發表演說')\n",
    "print(input.shape)\n",
    "hidden = torch.zeros(1, n_hidden)\n",
    "print(hidden.shape)\n",
    "print(input[0])\n",
    "output, next_hidden = rnn(input[0], hidden)\n",
    "print(len(next_hidden[0]))\n",
    "output"
   ]
  },
  {
   "cell_type": "code",
   "execution_count": 38,
   "metadata": {},
   "outputs": [
    {
     "name": "stdout",
     "output_type": "stream",
     "text": [
      "['politics', 'society', 'business', 'sports']\n",
      "('society', 1)\n"
     ]
    }
   ],
   "source": [
    "def categoryFromOutput(output):\n",
    "    top_n, top_i = output.topk(1)\n",
    "    category_i = top_i[0].item()\n",
    "    return all_categories[category_i], category_i\n",
    "print(all_categories)\n",
    "print(categoryFromOutput(output))"
   ]
  },
  {
   "cell_type": "code",
   "execution_count": 39,
   "metadata": {},
   "outputs": [
    {
     "name": "stdout",
     "output_type": "stream",
     "text": [
      "category = society / line = 毒販槍自抵太陽穴與警對峙1小時\n",
      "category = society / line = 土城鵝肉名店遭縱火1死4傷\n",
      "category = society / line = 刑事局前主秘╱許瑞山包庇賭場二審逆轉判3年4月\n",
      "category = politics / line = 行政契約協商若無結果林峯正：婦聯會資產將被凍結\n",
      "category = sports / line = 陽岱鋼談基層棒球：禮節比技術重要10倍\n",
      "category = sports / line = 勇士換戲碼「浪花兄弟」險翻船\n",
      "category = business / line = 義氣！侯貞雄捐錢捐鋼蓋台大社科院免冠名\n",
      "category = sports / line = 冬盟》首場無四死球完封朴峻杓暫居雙冠王\n",
      "category = politics / line = 民進黨布局2020英德配？清邁配？\n",
      "category = sports / line = 百敗翻身奪外卡最佳總教練落雙城\n"
     ]
    }
   ],
   "source": [
    "\n",
    "def Turn_input2tensor(category,line):\n",
    "    category_tensor = torch.tensor([all_categories.index(category)], dtype=torch.long)\n",
    "    line_tensor = lineToTensor(line)\n",
    "    return category, line, category_tensor, line_tensor\n",
    "\n",
    "for i in range(10):\n",
    "    category, line, category_tensor, line_tensor = Turn_input2tensor(train_sampler[i][0],train_sampler[i][1])\n",
    "    print('category =', category, '/ line =', line)"
   ]
  },
  {
   "cell_type": "markdown",
   "metadata": {},
   "source": [
    "## 設定Loss function－計算預測以及實際答案之間的差距\n",
    "## NLLoss <- Negative Log Likelihood"
   ]
  },
  {
   "cell_type": "code",
   "execution_count": 40,
   "metadata": {},
   "outputs": [],
   "source": [
    "criterion = nn.NLLLoss()"
   ]
  },
  {
   "cell_type": "markdown",
   "metadata": {},
   "source": [
    "## 設定參數(learning rate)以及訓練流程"
   ]
  },
  {
   "cell_type": "code",
   "execution_count": 41,
   "metadata": {},
   "outputs": [],
   "source": [
    "learning_rate = 0.01 # If you set this too high, it might explode. If too low, it might not learn\n",
    "# optimizer = optim.SGD(model.parameters(), lr=0.1)\n",
    "def train(model,category_tensor, line_tensor,word_index,use_embedding):\n",
    "    hidden = model.initHidden()\n",
    "    model.zero_grad()\n",
    "    for i in range(line_tensor.size()[0]):\n",
    "        if use_embedding:\n",
    "            output, hidden = model(word_index[i], hidden)\n",
    "        else:\n",
    "            output, hidden = model(line_tensor[i], hidden)\n",
    "    loss = criterion(output, category_tensor)\n",
    "    loss.backward()\n",
    "    torch.nn.utils.clip_grad_norm_(model.parameters(), 0.1)\n",
    "    # Add parameters' gradients to their values, multiplied by learning rate\n",
    "    for p in model.parameters():\n",
    "        if p.grad is not None:\n",
    "            p.data.add_(-learning_rate, p.grad.data)\n",
    "\n",
    "    return output, loss.item()"
   ]
  },
  {
   "cell_type": "code",
   "execution_count": 42,
   "metadata": {},
   "outputs": [
    {
     "name": "stdout",
     "output_type": "stream",
     "text": [
      "RNN(\n",
      "  (i2h): Linear(in_features=3044, out_features=128, bias=True)\n",
      "  (i2o): Linear(in_features=3044, out_features=4, bias=True)\n",
      "  (softmax): LogSoftmax()\n",
      ")\n",
      "500 5% (0m 15s) 1.3346 冬季聯盟／投野兩小獅驗收秋訓成果 / sports ✓\n",
      "1000 11% (0m 30s) 1.3587 三星7奈米難產台積大吃高通訂單 / sports ✗ (business)\n",
      "1500 17% (0m 46s) 1.3709 「比特幣是黃金2.0」比特幣億萬富翁自估再漲20倍 / sports ✗ (business)\n",
      "2000 23% (1m 2s) 1.3663 同一地點／空姐才被潑糞又遭潑滾燙瀝青 / sports ✗ (society)\n"
     ]
    },
    {
     "ename": "KeyboardInterrupt",
     "evalue": "",
     "traceback": [
      "\u001b[1;31m---------------------------------------------------------------------------\u001b[0m",
      "\u001b[1;31mKeyboardInterrupt\u001b[0m                         Traceback (most recent call last)",
      "\u001b[1;32m<ipython-input-42-43ed6942bb58>\u001b[0m in \u001b[0;36m<module>\u001b[1;34m\u001b[0m\n\u001b[0;32m     30\u001b[0m         \u001b[0mcategory\u001b[0m\u001b[1;33m,\u001b[0m \u001b[0mline\u001b[0m\u001b[1;33m,\u001b[0m \u001b[0mcategory_tensor\u001b[0m\u001b[1;33m,\u001b[0m \u001b[0mline_tensor\u001b[0m \u001b[1;33m=\u001b[0m \u001b[0mTurn_input2tensor\u001b[0m\u001b[1;33m(\u001b[0m\u001b[0mtrain_sampler\u001b[0m\u001b[1;33m[\u001b[0m\u001b[0mi\u001b[0m\u001b[1;33m]\u001b[0m\u001b[1;33m[\u001b[0m\u001b[1;36m0\u001b[0m\u001b[1;33m]\u001b[0m\u001b[1;33m,\u001b[0m\u001b[0mtrain_sampler\u001b[0m\u001b[1;33m[\u001b[0m\u001b[0mi\u001b[0m\u001b[1;33m]\u001b[0m\u001b[1;33m[\u001b[0m\u001b[1;36m1\u001b[0m\u001b[1;33m]\u001b[0m\u001b[1;33m)\u001b[0m\u001b[1;33m\u001b[0m\u001b[0m\n\u001b[0;32m     31\u001b[0m         \u001b[0mword_index\u001b[0m \u001b[1;33m=\u001b[0m \u001b[0mlinetoindexTensor\u001b[0m\u001b[1;33m(\u001b[0m\u001b[0mtrain_sampler\u001b[0m\u001b[1;33m[\u001b[0m\u001b[0mi\u001b[0m\u001b[1;33m]\u001b[0m\u001b[1;33m[\u001b[0m\u001b[1;36m1\u001b[0m\u001b[1;33m]\u001b[0m\u001b[1;33m)\u001b[0m\u001b[1;33m\u001b[0m\u001b[0m\n\u001b[1;32m---> 32\u001b[1;33m         \u001b[0moutput\u001b[0m\u001b[1;33m,\u001b[0m \u001b[0mloss\u001b[0m \u001b[1;33m=\u001b[0m \u001b[0mtrain\u001b[0m\u001b[1;33m(\u001b[0m\u001b[0mmodel\u001b[0m\u001b[1;33m,\u001b[0m\u001b[0mcategory_tensor\u001b[0m\u001b[1;33m,\u001b[0m \u001b[0mline_tensor\u001b[0m\u001b[1;33m,\u001b[0m\u001b[0mword_index\u001b[0m\u001b[1;33m,\u001b[0m\u001b[0muse_embedding\u001b[0m\u001b[1;33m)\u001b[0m\u001b[1;33m\u001b[0m\u001b[0m\n\u001b[0m\u001b[0;32m     33\u001b[0m         \u001b[0mcurrent_loss\u001b[0m \u001b[1;33m+=\u001b[0m \u001b[0mloss\u001b[0m\u001b[1;33m\u001b[0m\u001b[0m\n\u001b[0;32m     34\u001b[0m         \u001b[0mstep\u001b[0m\u001b[1;33m+=\u001b[0m\u001b[1;36m1\u001b[0m\u001b[1;33m\u001b[0m\u001b[0m\n",
      "\u001b[1;32m<ipython-input-41-fa46ee3ea604>\u001b[0m in \u001b[0;36mtrain\u001b[1;34m(model, category_tensor, line_tensor, word_index, use_embedding)\u001b[0m\n\u001b[0;32m     10\u001b[0m             \u001b[0moutput\u001b[0m\u001b[1;33m,\u001b[0m \u001b[0mhidden\u001b[0m \u001b[1;33m=\u001b[0m \u001b[0mmodel\u001b[0m\u001b[1;33m(\u001b[0m\u001b[0mline_tensor\u001b[0m\u001b[1;33m[\u001b[0m\u001b[0mi\u001b[0m\u001b[1;33m]\u001b[0m\u001b[1;33m,\u001b[0m \u001b[0mhidden\u001b[0m\u001b[1;33m)\u001b[0m\u001b[1;33m\u001b[0m\u001b[0m\n\u001b[0;32m     11\u001b[0m     \u001b[0mloss\u001b[0m \u001b[1;33m=\u001b[0m \u001b[0mcriterion\u001b[0m\u001b[1;33m(\u001b[0m\u001b[0moutput\u001b[0m\u001b[1;33m,\u001b[0m \u001b[0mcategory_tensor\u001b[0m\u001b[1;33m)\u001b[0m\u001b[1;33m\u001b[0m\u001b[0m\n\u001b[1;32m---> 12\u001b[1;33m     \u001b[0mloss\u001b[0m\u001b[1;33m.\u001b[0m\u001b[0mbackward\u001b[0m\u001b[1;33m(\u001b[0m\u001b[1;33m)\u001b[0m\u001b[1;33m\u001b[0m\u001b[0m\n\u001b[0m\u001b[0;32m     13\u001b[0m     \u001b[0mtorch\u001b[0m\u001b[1;33m.\u001b[0m\u001b[0mnn\u001b[0m\u001b[1;33m.\u001b[0m\u001b[0mutils\u001b[0m\u001b[1;33m.\u001b[0m\u001b[0mclip_grad_norm_\u001b[0m\u001b[1;33m(\u001b[0m\u001b[0mmodel\u001b[0m\u001b[1;33m.\u001b[0m\u001b[0mparameters\u001b[0m\u001b[1;33m(\u001b[0m\u001b[1;33m)\u001b[0m\u001b[1;33m,\u001b[0m \u001b[1;36m0.1\u001b[0m\u001b[1;33m)\u001b[0m\u001b[1;33m\u001b[0m\u001b[0m\n\u001b[0;32m     14\u001b[0m     \u001b[1;31m# Add parameters' gradients to their values, multiplied by learning rate\u001b[0m\u001b[1;33m\u001b[0m\u001b[1;33m\u001b[0m\u001b[0m\n",
      "\u001b[1;32mD:\\Anaconda3\\envs\\pytorch_teach\\lib\\site-packages\\torch\\tensor.py\u001b[0m in \u001b[0;36mbackward\u001b[1;34m(self, gradient, retain_graph, create_graph)\u001b[0m\n\u001b[0;32m    100\u001b[0m                 \u001b[0mproducts\u001b[0m\u001b[1;33m.\u001b[0m \u001b[0mDefaults\u001b[0m \u001b[0mto\u001b[0m\u001b[0;31m \u001b[0m\u001b[0;31m`\u001b[0m\u001b[0;31m`\u001b[0m\u001b[1;32mFalse\u001b[0m\u001b[0;31m`\u001b[0m\u001b[0;31m`\u001b[0m\u001b[1;33m.\u001b[0m\u001b[1;33m\u001b[0m\u001b[0m\n\u001b[0;32m    101\u001b[0m         \"\"\"\n\u001b[1;32m--> 102\u001b[1;33m         \u001b[0mtorch\u001b[0m\u001b[1;33m.\u001b[0m\u001b[0mautograd\u001b[0m\u001b[1;33m.\u001b[0m\u001b[0mbackward\u001b[0m\u001b[1;33m(\u001b[0m\u001b[0mself\u001b[0m\u001b[1;33m,\u001b[0m \u001b[0mgradient\u001b[0m\u001b[1;33m,\u001b[0m \u001b[0mretain_graph\u001b[0m\u001b[1;33m,\u001b[0m \u001b[0mcreate_graph\u001b[0m\u001b[1;33m)\u001b[0m\u001b[1;33m\u001b[0m\u001b[0m\n\u001b[0m\u001b[0;32m    103\u001b[0m \u001b[1;33m\u001b[0m\u001b[0m\n\u001b[0;32m    104\u001b[0m     \u001b[1;32mdef\u001b[0m \u001b[0mregister_hook\u001b[0m\u001b[1;33m(\u001b[0m\u001b[0mself\u001b[0m\u001b[1;33m,\u001b[0m \u001b[0mhook\u001b[0m\u001b[1;33m)\u001b[0m\u001b[1;33m:\u001b[0m\u001b[1;33m\u001b[0m\u001b[0m\n",
      "\u001b[1;32mD:\\Anaconda3\\envs\\pytorch_teach\\lib\\site-packages\\torch\\autograd\\__init__.py\u001b[0m in \u001b[0;36mbackward\u001b[1;34m(tensors, grad_tensors, retain_graph, create_graph, grad_variables)\u001b[0m\n\u001b[0;32m     88\u001b[0m     Variable._execution_engine.run_backward(\n\u001b[0;32m     89\u001b[0m         \u001b[0mtensors\u001b[0m\u001b[1;33m,\u001b[0m \u001b[0mgrad_tensors\u001b[0m\u001b[1;33m,\u001b[0m \u001b[0mretain_graph\u001b[0m\u001b[1;33m,\u001b[0m \u001b[0mcreate_graph\u001b[0m\u001b[1;33m,\u001b[0m\u001b[1;33m\u001b[0m\u001b[0m\n\u001b[1;32m---> 90\u001b[1;33m         allow_unreachable=True)  # allow_unreachable flag\n\u001b[0m\u001b[0;32m     91\u001b[0m \u001b[1;33m\u001b[0m\u001b[0m\n\u001b[0;32m     92\u001b[0m \u001b[1;33m\u001b[0m\u001b[0m\n",
      "\u001b[1;31mKeyboardInterrupt\u001b[0m: "
     ],
     "output_type": "error"
    }
   ],
   "source": [
    "import time\n",
    "import math\n",
    "\n",
    "epochs = 3\n",
    "print_every = 500\n",
    "plot_every = 100\n",
    "step = 0\n",
    "n_steps = epochs*len(train_sampler)\n",
    "n_hidden = 128\n",
    "use_embedding = False\n",
    "\n",
    "\n",
    "model = RNN(n_chars, n_hidden, n_categories,use_embedding)\n",
    "print(model)\n",
    "# Keep track of losses for plotting\n",
    "current_loss = 0\n",
    "all_losses = []\n",
    "\n",
    "def timeSince(since):\n",
    "    now = time.time()\n",
    "    s = now - since\n",
    "    m = math.floor(s / 60)\n",
    "    s -= m * 60\n",
    "    return '%dm %ds' % (m, s)\n",
    "\n",
    "start = time.time()\n",
    "\n",
    "for epoch in range(1, epochs + 1):\n",
    "    for i in range(0,len(train_sampler)):\n",
    "        category, line, category_tensor, line_tensor = Turn_input2tensor(train_sampler[i][0],train_sampler[i][1])\n",
    "        word_index = linetoindexTensor(train_sampler[i][1])\n",
    "        output, loss = train(model,category_tensor, line_tensor,word_index,use_embedding)\n",
    "        current_loss += loss\n",
    "        step+=1\n",
    "        # Print iter number, loss, name and guess\n",
    "        if step % print_every == 0:\n",
    "            guess, guess_i = categoryFromOutput(output)\n",
    "            correct = '✓' if guess == category else '✗ (%s)' % category\n",
    "            print('%d %d%% (%s) %.4f %s / %s %s' % (step, step / n_steps * 100, timeSince(start), loss, line, guess, correct))\n",
    "        # Add current loss avg to list of losses\n",
    "        if step % plot_every == 0:\n",
    "            all_losses.append(current_loss / plot_every)\n",
    "            current_loss = 0"
   ]
  },
  {
   "cell_type": "code",
   "execution_count": null,
   "metadata": {},
   "outputs": [],
   "source": [
    "import matplotlib.pyplot as plt\n",
    "import matplotlib.ticker as ticker\n",
    "\n",
    "plt.figure()\n",
    "plt.plot(all_losses)\n",
    "plt.show()"
   ]
  },
  {
   "cell_type": "code",
   "execution_count": 223,
   "metadata": {},
   "outputs": [
    {
     "name": "stdout",
     "output_type": "stream",
     "text": [
      "tensor([[1., 0., 0., 0.],\n",
      "        [1., 0., 0., 0.],\n",
      "        [1., 0., 0., 0.],\n",
      "        [1., 0., 0., 0.]])\n"
     ]
    },
    {
     "data": {
      "image/png": "[encoded data removed]",
      "text/plain": [
       "<Figure size 432x288 with 2 Axes>"
      ]
     },
     "metadata": {
      "needs_background": "light"
     },
     "output_type": "display_data"
    }
   ],
   "source": [
    "\n",
    "confusion = torch.zeros(n_categories, n_categories)\n",
    "n_confusion = len(valid_sampler)\n",
    "# Just return an output given a line\n",
    "hidden = model.initHidden()\n",
    "# print(model(torch.tensor([50]),hidden))\n",
    "def evaluate(model,line_tensor,word_index,use_embedding):\n",
    "    hidden = model.initHidden()\n",
    "    for i in range(line_tensor.size()[0]):\n",
    "        if use_embedding:\n",
    "            output, hidden = model(word_index[i], hidden)\n",
    "        else:\n",
    "            output, hidden = model(line_tensor[i], hidden)\n",
    "\n",
    "    return output\n",
    "\n",
    "# Go through a bunch of examples and record which are correctly guessed\n",
    "for i in range(n_confusion):\n",
    "    category, line, category_tensor, line_tensor = Turn_input2tensor(valid_sampler[i][0],valid_sampler[i][1])\n",
    "    word_index = linetoindexTensor(valid_sampler[i][1])\n",
    "    output = evaluate(model,line_tensor,word_index,use_embedding)\n",
    "    guess, guess_i = categoryFromOutput(output)\n",
    "    category_i = all_categories.index(category)\n",
    "    confusion[category_i][guess_i] += 1\n",
    "# Normalize by dividing every row by its sum\n",
    "for i in range(n_categories):\n",
    "    confusion[i] = confusion[i] / confusion[i].sum()\n",
    "print(confusion)\n",
    "# Set up plot\n",
    "fig = plt.figure()\n",
    "ax = fig.add_subplot(111)\n",
    "cax = ax.matshow(confusion.numpy())\n",
    "fig.colorbar(cax)\n",
    "\n",
    "# Set up axes\n",
    "ax.set_xticklabels([''] + all_categories, rotation=90)\n",
    "ax.set_yticklabels([''] + all_categories)\n",
    "\n",
    "# Force label at every tick\n",
    "ax.xaxis.set_major_locator(ticker.MultipleLocator(1))\n",
    "ax.yaxis.set_major_locator(ticker.MultipleLocator(1))\n",
    "\n",
    "# sphinx_gallery_thumbnail_number = 2\n",
    "plt.show()"
   ]
  },
  {
   "cell_type": "code",
   "execution_count": 141,
   "metadata": {},
   "outputs": [],
   "source": [
    "def evaluate(model,line_tensor,word_index,use_embedding):\n",
    "    hidden = model.initHidden()\n",
    "    for i in range(line_tensor.size()[0]):\n",
    "        if use_embedding:\n",
    "            output, hidden = model(word_index[i], hidden)\n",
    "        else:\n",
    "            output, hidden = model(line_tensor[i], hidden)\n",
    "    return output\n",
    "\n",
    "def predict(model,input_line, n_predictions=3):\n",
    "    print('\\n> %s' % input_line)\n",
    "    with torch.no_grad():\n",
    "        word_index = linetoindexTensor(input_line)\n",
    "        output = evaluate(model,lineToTensor(input_line),word_index,True)\n",
    "\n",
    "        # Get top N categories\n",
    "        topv, topi = output.topk(n_predictions, 1, True)\n",
    "        predictions = []\n",
    "\n",
    "        for i in range(n_predictions):\n",
    "            value = topv[0][i].item()\n",
    "            category_index = topi[0][i].item()\n",
    "            print('(%.2f) %s' % (value, all_categories[category_index]))\n",
    "            predictions.append([value, all_categories[category_index]])\n",
    "\n",
    "# predict(model,'Dovesky')\n",
    "# predict(model,'Jackson')\n",
    "# predict(model,'Satoshi')"
   ]
  },
  {
   "cell_type": "code",
   "execution_count": 142,
   "metadata": {},
   "outputs": [
    {
     "name": "stderr",
     "output_type": "stream",
     "text": [
      "D:\\Anaconda3\\envs\\pytorch_teach\\lib\\site-packages\\torch\\serialization.py:250: UserWarning: Couldn't retrieve source code for container of type RNN. It won't be checked for correctness upon loading.\n",
      "  \"type \" + obj.__name__ + \". It won't be checked \"\n"
     ]
    }
   ],
   "source": [
    "torch.save(model, \"newsmodel.pt\")"
   ]
  },
  {
   "cell_type": "code",
   "execution_count": 143,
   "metadata": {},
   "outputs": [],
   "source": [
    "news_model = torch.load('newsmodel.pt')"
   ]
  },
  {
   "cell_type": "code",
   "execution_count": 204,
   "metadata": {},
   "outputs": [
    {
     "name": "stdout",
     "output_type": "stream",
     "text": [
      "\n",
      "> 參選2020\n",
      "(-0.75) business\n",
      "(-1.56) society\n",
      "(-1.60) sports\n",
      "\n",
      "> 女友跨年上男人車..醋男談判反挨刀\n",
      "(-0.95) society\n",
      "(-1.26) politics\n",
      "(-1.61) business\n"
     ]
    }
   ],
   "source": [
    "predict(news_model,'參選2020')\n",
    "predict(news_model,'女友跨年上男人車..醋男談判反挨刀')"
   ]
  },
  {
   "cell_type": "code",
   "execution_count": null,
   "metadata": {},
   "outputs": [],
   "source": []
  }
 ],
 "metadata": {
  "kernelspec": {
   "display_name": "pytorch_teach",
   "language": "python",
   "name": "pytorch_teach"
  }
 },
 "nbformat": 4,
 "nbformat_minor": 2
}
